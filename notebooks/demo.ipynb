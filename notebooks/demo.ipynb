{
 "cells": [
  {
   "cell_type": "code",
   "execution_count": null,
   "metadata": {},
   "outputs": [],
   "source": [
    "from IPython.display import display\n",
    "import logging"
   ]
  },
  {
   "cell_type": "code",
   "execution_count": null,
   "metadata": {},
   "outputs": [],
   "source": [
    "class JupyterHandler(logging.Handler):\n",
    "    def _get_jupyter_level(self, level):\n",
    "        level_name = logging.getLevelName(level)\n",
    "        return level_name.lower()\n",
    "        \n",
    "    def emit(self, record):\n",
    "        message = self.format(record)\n",
    "        data = {\n",
    "            'application/vnd.jupyterlab.log': {\n",
    "                'type': 'text',\n",
    "                'data': message,\n",
    "                'level': self._get_jupyter_level(record.levelno)\n",
    "            }\n",
    "        }\n",
    "        display(data, raw=True)"
   ]
  },
  {
   "cell_type": "code",
   "execution_count": null,
   "metadata": {},
   "outputs": [],
   "source": [
    "rootLogger = logging.getLogger()\n",
    "rootLogger.setLevel(logging.INFO)\n",
    "handler = JupyterHandler()\n",
    "handler.setLevel(logging.INFO)\n",
    "rootLogger.addHandler(handler)"
   ]
  },
  {
   "cell_type": "code",
   "execution_count": null,
   "metadata": {},
   "outputs": [],
   "source": [
    "logging.warning(\"HI\")"
   ]
  }
 ],
 "metadata": {
  "kernelspec": {
   "display_name": "Python 3",
   "language": "python",
   "name": "python3"
  },
  "language_info": {
   "codemirror_mode": {
    "name": "ipython",
    "version": 3
   },
   "file_extension": ".py",
   "mimetype": "text/x-python",
   "name": "python",
   "nbconvert_exporter": "python",
   "pygments_lexer": "ipython3",
   "version": "3.8.0"
  }
 },
 "nbformat": 4,
 "nbformat_minor": 4
}
